{
 "cells": [
  {
   "cell_type": "code",
   "execution_count": 1,
   "id": "4effc89d-61e5-40cc-a90f-8bc076d1f8b8",
   "metadata": {},
   "outputs": [
    {
     "name": "stdout",
     "output_type": "stream",
     "text": [
      "good\n"
     ]
    }
   ],
   "source": [
    "word = 'good'\n",
    "print(word)"
   ]
  },
  {
   "cell_type": "code",
   "execution_count": 2,
   "id": "e05ec7a0-6b78-42e9-9402-615d66587083",
   "metadata": {},
   "outputs": [
    {
     "name": "stdout",
     "output_type": "stream",
     "text": [
      "good\n"
     ]
    }
   ],
   "source": [
    "word = \"good\"\n",
    "print(word)"
   ]
  },
  {
   "cell_type": "code",
   "execution_count": 3,
   "id": "91987624-d2f9-46cd-b15f-f70cf9005861",
   "metadata": {},
   "outputs": [
    {
     "name": "stdout",
     "output_type": "stream",
     "text": [
      "5 litres\n"
     ]
    }
   ],
   "source": [
    "word = 'litres'\n",
    "number = 5\n",
    "print(number, word)"
   ]
  },
  {
   "cell_type": "code",
   "execution_count": 4,
   "id": "91468b4b-0c99-46d9-b75b-a514f8aec4a1",
   "metadata": {},
   "outputs": [
    {
     "name": "stdout",
     "output_type": "stream",
     "text": [
      "house number 10\n"
     ]
    }
   ],
   "source": [
    "word = 'house number'\n",
    "number = 10\n",
    "print(word, number)"
   ]
  },
  {
   "cell_type": "code",
   "execution_count": null,
   "id": "74f3e179-3943-4483-a078-5813aea7e3ae",
   "metadata": {},
   "outputs": [],
   "source": []
  }
 ],
 "metadata": {
  "kernelspec": {
   "display_name": "Python 3 (ipykernel)",
   "language": "python",
   "name": "python3"
  },
  "language_info": {
   "codemirror_mode": {
    "name": "ipython",
    "version": 3
   },
   "file_extension": ".py",
   "mimetype": "text/x-python",
   "name": "python",
   "nbconvert_exporter": "python",
   "pygments_lexer": "ipython3",
   "version": "3.9.13"
  }
 },
 "nbformat": 4,
 "nbformat_minor": 5
}
